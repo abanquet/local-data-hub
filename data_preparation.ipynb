{
 "cells": [
  {
   "cell_type": "code",
   "execution_count": 1,
   "metadata": {},
   "outputs": [],
   "source": [
    "import pandas as pd\n",
    "import geopandas as gpd\n",
    "import json\n",
    "import os\n",
    "from tqdm import tqdm"
   ]
  },
  {
   "cell_type": "code",
   "execution_count": 2,
   "metadata": {},
   "outputs": [],
   "source": [
    "list_files = os.listdir('data_raw/sau_data')"
   ]
  },
  {
   "cell_type": "code",
   "execution_count": 3,
   "metadata": {},
   "outputs": [
    {
     "name": "stderr",
     "output_type": "stream",
     "text": [
      " 14%|█▍        | 9/64 [00:15<01:28,  1.61s/it]"
     ]
    },
    {
     "name": "stdout",
     "output_type": "stream",
     "text": [
      "'data_raw/sau_data/.DS_Store' not recognized as a supported file format.\n"
     ]
    },
    {
     "name": "stderr",
     "output_type": "stream",
     "text": [
      "100%|██████████| 64/64 [03:34<00:00,  3.35s/it]\n"
     ]
    }
   ],
   "source": [
    "gdf_sau = []\n",
    "for file in tqdm(list_files):\n",
    "    try:\n",
    "        gdf_sauk = gpd.read_file(f'data_raw/sau_data/{file}')\n",
    "        gdf_sau.append(gdf_sauk)\n",
    "    except Exception as error:\n",
    "        print(error)\n",
    "gdf_sau = pd.concat(gdf_sau)"
   ]
  },
  {
   "cell_type": "code",
   "execution_count": 7,
   "metadata": {},
   "outputs": [],
   "source": [
    "gdf_sau[['pk', 'launame', 'iso3', 'table_name', 'geo_level', 'fuacode',\n",
    "       'fuaname_en', 'citycode', 'cityname_en', 'tl2_id', 'tl3_id',\n",
    "       'tl2_name_en', 'tl3_name_en']].to_csv('../oecd-municipal-atlas-pm-data/data/data_geo_names_map.csv', index=False)"
   ]
  },
  {
   "cell_type": "code",
   "execution_count": 13,
   "metadata": {},
   "outputs": [],
   "source": [
    "# gdf_sau[['pk', 'launame', 'iso3', 'geo_level', 'year_ref_geo', 'fuacode',\n",
    "#        'fuaname_en', 'citycode', 'cityname_en', 'tl2_id', 'tl3_id',\n",
    "#        'tl2_name_en', 'tl3_name_en', 'geometry']].to_file('../data_raw/sau.geojson')"
   ]
  },
  {
   "cell_type": "code",
   "execution_count": 6,
   "metadata": {},
   "outputs": [],
   "source": [
    "# os.makedirs(\"sau_data\", exist_ok=True)"
   ]
  },
  {
   "cell_type": "code",
   "execution_count": 18,
   "metadata": {},
   "outputs": [],
   "source": [
    "# cols_excl_list = ['pk', 'launame', 'iso3', 'geo_level', 'year_ref_geo',\n",
    "#                   'fuacode', 'fuaname_en', 'citycode', 'cityname_en',\n",
    "#                   'tl2_id', 'tl3_id', 'tl2_name_en', 'tl3_name_en', \n",
    "#                   'geometry']"
   ]
  },
  {
   "cell_type": "code",
   "execution_count": 19,
   "metadata": {},
   "outputs": [
    {
     "name": "stderr",
     "output_type": "stream",
     "text": [
      "100%|██████████| 128/128 [00:55<00:00,  2.31it/s]\n"
     ]
    }
   ],
   "source": [
    "# for col in tqdm(gdf_sau.columns):\n",
    "#     if col not in cols_excl_list:\n",
    "#         os.makedirs(f\"data/sau_data/{col}\", exist_ok=True)\n",
    "#         gdf_sau[['pk', col]].to_csv(f\"data/sau_data/{col}/latest.csv\", index=False)"
   ]
  },
  {
   "attachments": {},
   "cell_type": "markdown",
   "metadata": {},
   "source": [
    "# Build geo references JSON files"
   ]
  },
  {
   "cell_type": "code",
   "execution_count": 8,
   "metadata": {},
   "outputs": [],
   "source": [
    "df_sau_names = pd.read_csv('../oecd-municipal-atlas-pm-data/data/data_geo_names_map.csv')"
   ]
  },
  {
   "cell_type": "code",
   "execution_count": 9,
   "metadata": {},
   "outputs": [],
   "source": [
    "table_name_list = gdf_sau.table_name.unique()"
   ]
  },
  {
   "cell_type": "code",
   "execution_count": 10,
   "metadata": {},
   "outputs": [],
   "source": [
    "os.makedirs('../oecd-municipal-atlas-pm-data/data/geo_names/sau_names', exist_ok=True)"
   ]
  },
  {
   "cell_type": "code",
   "execution_count": 11,
   "metadata": {},
   "outputs": [],
   "source": [
    "tl1_names = df_sau_names[['iso3']].drop_duplicates()\n",
    "tl1_names.reset_index(drop=True, inplace=True)\n",
    "\n",
    "json_string = json.dumps(tl1_names.to_dict('records'))\n",
    "\n",
    "# Save the JSON string to a file\n",
    "# with open(\"geo_names/tl1_names_map.json\", \"w\") as json_file:\n",
    "#     json_file.write(json_string)"
   ]
  },
  {
   "cell_type": "code",
   "execution_count": 12,
   "metadata": {},
   "outputs": [],
   "source": [
    "tl2_names = df_sau_names[['iso3', 'tl2_id', 'tl2_name_en']].drop_duplicates()\n",
    "tl2_names.reset_index(drop=True, inplace=True)\n",
    "tl2_names.dropna(inplace=True)\n",
    "\n",
    "json_string = json.dumps(tl2_names.to_dict('records'))\n",
    "\n",
    "# Save the JSON string to a file\n",
    "with open(\"../oecd-municipal-atlas-pm-data/data/geo_names/tl2_names_map.json\", \"w\") as json_file:\n",
    "    json_file.write(json_string)"
   ]
  },
  {
   "cell_type": "code",
   "execution_count": 13,
   "metadata": {},
   "outputs": [],
   "source": [
    "tl3_names = df_sau_names[['iso3', 'tl3_id', 'tl3_name_en']].drop_duplicates()\n",
    "tl3_names.reset_index(drop=True, inplace=True)\n",
    "tl3_names.dropna(inplace=True)\n",
    "\n",
    "json_string = json.dumps(tl3_names.to_dict('records'))\n",
    "\n",
    "# Save the JSON string to a file\n",
    "with open(\"../oecd-municipal-atlas-pm-data/data/geo_names/tl3_names_map.json\", \"w\") as json_file:\n",
    "    json_file.write(json_string)"
   ]
  },
  {
   "cell_type": "code",
   "execution_count": 14,
   "metadata": {},
   "outputs": [],
   "source": [
    "fua_names = df_sau_names[['iso3', 'fuacode', 'fuaname_en']].drop_duplicates()\n",
    "fua_names.reset_index(drop=True, inplace=True)\n",
    "fua_names.dropna(inplace=True)\n",
    "\n",
    "json_string = json.dumps(fua_names.to_dict('records'))\n",
    "\n",
    "# Save the JSON string to a file\n",
    "with open(\"../oecd-municipal-atlas-pm-data/data/geo_names/fua_names_map.json\", \"w\") as json_file:\n",
    "    json_file.write(json_string)"
   ]
  },
  {
   "cell_type": "code",
   "execution_count": 15,
   "metadata": {},
   "outputs": [],
   "source": [
    "city_names = df_sau_names[['iso3', 'citycode', 'cityname_en']].drop_duplicates()\n",
    "city_names.reset_index(drop=True, inplace=True)\n",
    "city_names.dropna(inplace=True)\n",
    "\n",
    "json_string = json.dumps(city_names.to_dict('records'))\n",
    "\n",
    "# Save the JSON string to a file\n",
    "with open(\"../oecd-municipal-atlas-pm-data/data/geo_names/city_names_map.json\", \"w\") as json_file:\n",
    "    json_file.write(json_string)"
   ]
  },
  {
   "cell_type": "code",
   "execution_count": 16,
   "metadata": {},
   "outputs": [
    {
     "name": "stdout",
     "output_type": "stream",
     "text": [
      "lva_sau2_2022\n",
      "ltu_sau3_2020\n",
      "pol_sau4_2024\n",
      "nzl_sau3_2022\n",
      "prt_sau3_2021\n",
      "nzl_sau4_2022\n",
      "nld_sau3_2023\n",
      "lux_sau3_2021\n",
      "deu_postcode_2022\n",
      "lva_sau3_2022\n",
      "bel_sau3_2022\n",
      "cri_sau4_2022\n",
      "dnk_sau3_2022\n",
      "usa_sau3_2022\n",
      "dnk_postcode_2024\n",
      "hrv_sau3_2020\n",
      "irl_sau2_2022\n",
      "deu_sau3_2022\n",
      "usa_postcode_2020\n",
      "prt_sau2_2023\n",
      "irl_sau3_2022\n",
      "chl_sau3_2017\n",
      "cyp_sau3_2020\n",
      "fin_sau2_2022\n",
      "svk_sau3_2021\n",
      "tur_sau4_2022\n",
      "che_sau3_2021\n",
      "jpn_sau3_2020\n",
      "mex_sau3_2021\n",
      "rou_sau3_2020\n",
      "can_sau3_2021\n",
      "svn_sau3_2021\n",
      "bgr_sau3_2020\n",
      "cze_sau3_2022\n",
      "gbr_sau3_2022\n",
      "prt_sau2_2018\n",
      "mex_sau2_2021\n",
      "grc_sau4_2015\n",
      "fin_sau3_2022\n",
      "irl_sau4_2019\n",
      "aus_sau4_2023\n",
      "isl_sau3_2023\n",
      "est_sau3_2023\n",
      "fra_sau3_2022\n",
      "cri_sau3_2018\n",
      "nor_sau3_2022\n",
      "usa_place_2022\n",
      "swe_sau3_2021\n",
      "aus_sau3_2021\n",
      "aut_sau3_2022\n",
      "gbr_postcode_2017\n",
      "kor_sau3_2023\n",
      "ita_sau3_2022\n",
      "hun_sau3_2020\n",
      "esp_sau3_2021\n",
      "fra_sau2_2022\n",
      "hun_sau2_2016\n",
      "grc_sau3_2020\n",
      "col_sau3_2021\n",
      "pol_sau3_2021\n",
      "kor_sau2_2023\n",
      "mlt_sau3_2020\n",
      "usa_cousub_2022\n"
     ]
    }
   ],
   "source": [
    "for table_name in table_name_list:\n",
    "    print(table_name)\n",
    "    iso3 = table_name.split('_')[0].upper()\n",
    "\n",
    "    json_data = []\n",
    "    \n",
    "    for k, row in tl2_names[tl2_names.iso3 == iso3].iterrows(): \n",
    "        json_data_k_children = df_sau_names[(df_sau_names.tl2_id == row['tl2_id']) & \n",
    "                                            (df_sau_names.table_name == table_name)][['pk', 'launame', 'tl2_name_en', 'tl3_name_en', 'fuaname_en', 'cityname_en']].fillna('')\n",
    "        json_data_k_children = json_data_k_children.rename(columns={'pk': 'id', 'launame': 'text'})\n",
    "        json_data_k_children = json_data_k_children.to_dict('records')\n",
    "        json_data_k = {\n",
    "            \"tl2_id\": row[\"tl2_id\"],  \n",
    "            \"tl2_name_en\": row[\"tl2_name_en\"],  \n",
    "            \"children\": json_data_k_children\n",
    "        }\n",
    "        json_data.append(json_data_k)\n",
    "    \n",
    "    json_string = json.dumps(json_data)\n",
    "    # Save the JSON string to a file\n",
    "    with open(f\"../oecd-municipal-atlas-pm-data/data/geo_names/sau_names/{table_name}.json\", \"w\") as json_file:\n",
    "        json_file.write(json_string)"
   ]
  },
  {
   "attachments": {},
   "cell_type": "markdown",
   "metadata": {},
   "source": [
    "# Creating JSON database"
   ]
  },
  {
   "cell_type": "code",
   "execution_count": 27,
   "metadata": {},
   "outputs": [],
   "source": [
    "# gdf_sau = gpd.read_file('data_raw/data_geo.geojson')"
   ]
  },
  {
   "cell_type": "code",
   "execution_count": 28,
   "metadata": {},
   "outputs": [],
   "source": [
    "#df_sau = gdf_sau.drop(columns='geometry')"
   ]
  },
  {
   "cell_type": "code",
   "execution_count": 17,
   "metadata": {},
   "outputs": [],
   "source": [
    "os.makedirs('../oecd-municipal-atlas-pm-data/data/geo_data', exist_ok=True)"
   ]
  },
  {
   "cell_type": "code",
   "execution_count": 18,
   "metadata": {},
   "outputs": [
    {
     "name": "stdout",
     "output_type": "stream",
     "text": [
      "lva_sau2_2022\n",
      "ltu_sau3_2020\n",
      "pol_sau4_2024\n",
      "nzl_sau3_2022\n",
      "prt_sau3_2021\n",
      "nzl_sau4_2022\n",
      "nld_sau3_2023\n",
      "lux_sau3_2021\n",
      "deu_postcode_2022\n",
      "lva_sau3_2022\n",
      "bel_sau3_2022\n",
      "cri_sau4_2022\n",
      "dnk_sau3_2022\n",
      "usa_sau3_2022\n",
      "dnk_postcode_2024\n",
      "hrv_sau3_2020\n",
      "irl_sau2_2022\n",
      "deu_sau3_2022\n",
      "usa_postcode_2020\n",
      "prt_sau2_2023\n",
      "irl_sau3_2022\n",
      "chl_sau3_2017\n",
      "cyp_sau3_2020\n",
      "fin_sau2_2022\n",
      "svk_sau3_2021\n",
      "tur_sau4_2022\n",
      "che_sau3_2021\n",
      "jpn_sau3_2020\n",
      "mex_sau3_2021\n",
      "rou_sau3_2020\n",
      "can_sau3_2021\n",
      "svn_sau3_2021\n",
      "bgr_sau3_2020\n",
      "cze_sau3_2022\n",
      "gbr_sau3_2022\n",
      "prt_sau2_2018\n",
      "mex_sau2_2021\n",
      "grc_sau4_2015\n",
      "fin_sau3_2022\n",
      "irl_sau4_2019\n",
      "aus_sau4_2023\n",
      "isl_sau3_2023\n",
      "est_sau3_2023\n",
      "fra_sau3_2022\n",
      "cri_sau3_2018\n",
      "nor_sau3_2022\n",
      "usa_place_2022\n",
      "swe_sau3_2021\n",
      "aus_sau3_2021\n",
      "aut_sau3_2022\n",
      "gbr_postcode_2017\n",
      "kor_sau3_2023\n",
      "ita_sau3_2022\n",
      "hun_sau3_2020\n",
      "esp_sau3_2021\n",
      "fra_sau2_2022\n",
      "hun_sau2_2016\n",
      "grc_sau3_2020\n",
      "col_sau3_2021\n",
      "pol_sau3_2021\n",
      "kor_sau2_2023\n",
      "mlt_sau3_2020\n",
      "usa_cousub_2022\n"
     ]
    }
   ],
   "source": [
    "for table_name in table_name_list:\n",
    "    print(table_name)\n",
    "    os.makedirs(f'../oecd-municipal-atlas-pm-data/data/geo_data/{table_name}', exist_ok=True)\n",
    "    for k, row in gdf_sau[gdf_sau.table_name == table_name].iterrows():\n",
    "        pk = row['pk'].replace('/', '-')\n",
    "        gpd.GeoDataFrame([row]).to_file(f'../oecd-municipal-atlas-pm-data/data/geo_data/{table_name}/{pk}.json', driver=\"GeoJSON\")\n",
    "        # row_dict = row.to_dict()\n",
    "        # row_dict = {k: None if pd.isna(v) else v for k, v in row_dict.items()}\n",
    "        \n",
    "        # json_string = json.dumps(row_dict)\n",
    "        # # Save the JSON string to a file\n",
    "        # with open(f'data/geo_data/{iso3}/{pk}.json', \"w\") as json_file:\n",
    "        #     json_file.write(json_string)"
   ]
  },
  {
   "cell_type": "code",
   "execution_count": null,
   "metadata": {},
   "outputs": [],
   "source": []
  }
 ],
 "metadata": {
  "kernelspec": {
   "display_name": "geo",
   "language": "python",
   "name": "python3"
  },
  "language_info": {
   "codemirror_mode": {
    "name": "ipython",
    "version": 3
   },
   "file_extension": ".py",
   "mimetype": "text/x-python",
   "name": "python",
   "nbconvert_exporter": "python",
   "pygments_lexer": "ipython3",
   "version": "3.9.7"
  },
  "orig_nbformat": 4
 },
 "nbformat": 4,
 "nbformat_minor": 2
}
